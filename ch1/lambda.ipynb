{
 "cells": [
  {
   "cell_type": "markdown",
   "metadata": {},
   "source": [
    "### 1. 람다함수\n",
    "* 단일문으로 표현되는 익명함수\n",
    "* 익명함수란 이름이 없는 구현체만 존재하는 간단한 함수를 의미\n",
    "* 코드 상에서 한번만 사용되는 기능이 있을 때 함수로 작성하지 않고 1회성으로 만들어서 사용"
   ]
  },
  {
   "cell_type": "code",
   "execution_count": 2,
   "metadata": {},
   "outputs": [],
   "source": [
    "def square(x):\n",
    "    return x**2"
   ]
  },
  {
   "cell_type": "code",
   "execution_count": 3,
   "metadata": {},
   "outputs": [
    {
     "data": {
      "text/plain": [
       "25"
      ]
     },
     "execution_count": 3,
     "metadata": {},
     "output_type": "execute_result"
    }
   ],
   "source": [
    "square(5)"
   ]
  },
  {
   "cell_type": "code",
   "execution_count": 4,
   "metadata": {},
   "outputs": [],
   "source": [
    "square2 = lambda x:x**2"
   ]
  },
  {
   "cell_type": "code",
   "execution_count": 5,
   "metadata": {},
   "outputs": [
    {
     "data": {
      "text/plain": [
       "36"
      ]
     },
     "execution_count": 5,
     "metadata": {},
     "output_type": "execute_result"
    }
   ],
   "source": [
    "square2(6)"
   ]
  },
  {
   "cell_type": "code",
   "execution_count": 6,
   "metadata": {},
   "outputs": [
    {
     "data": {
      "text/plain": [
       "function"
      ]
     },
     "execution_count": 6,
     "metadata": {},
     "output_type": "execute_result"
    }
   ],
   "source": [
    "type(square2)"
   ]
  },
  {
   "cell_type": "code",
   "execution_count": 7,
   "metadata": {},
   "outputs": [],
   "source": [
    "def add(x, y):\n",
    "    return x + y"
   ]
  },
  {
   "cell_type": "code",
   "execution_count": 8,
   "metadata": {},
   "outputs": [
    {
     "data": {
      "text/plain": [
       "15"
      ]
     },
     "execution_count": 8,
     "metadata": {},
     "output_type": "execute_result"
    }
   ],
   "source": [
    "add2 = lambda x,y:x+y\n",
    "add2(5,10)"
   ]
  },
  {
   "cell_type": "code",
   "execution_count": 9,
   "metadata": {},
   "outputs": [
    {
     "data": {
      "text/plain": [
       "['alexander3', 'bob', 'charles', 'teddy']"
      ]
     },
     "execution_count": 9,
     "metadata": {},
     "output_type": "execute_result"
    }
   ],
   "source": [
    "strings = [\"bob\",\"charles\",\"alexander3\",\"teddy\"]\n",
    "strings.sort()\n",
    "strings"
   ]
  },
  {
   "cell_type": "code",
   "execution_count": 10,
   "metadata": {},
   "outputs": [
    {
     "data": {
      "text/plain": [
       "['bob', 'teddy', 'charles', 'alexander3']"
      ]
     },
     "execution_count": 10,
     "metadata": {},
     "output_type": "execute_result"
    }
   ],
   "source": [
    "# sort 기준 : 문자 길이가 짧은 순서\n",
    "\n",
    "def str_len(s):\n",
    "    return len(s)\n",
    "\n",
    "strings = [\"bob\",\"charles\",\"alexander3\",\"teddy\"]\n",
    "strings.sort(key=str_len)\n",
    "strings"
   ]
  },
  {
   "cell_type": "code",
   "execution_count": 11,
   "metadata": {},
   "outputs": [
    {
     "data": {
      "text/plain": [
       "['bob', 'teddy', 'charles', 'alexander3']"
      ]
     },
     "execution_count": 11,
     "metadata": {},
     "output_type": "execute_result"
    }
   ],
   "source": [
    "strings = [\"bob\",\"charles\",\"alexander3\",\"teddy\"]\n",
    "strings.sort(key=lambda s:len(s))\n",
    "strings"
   ]
  },
  {
   "cell_type": "code",
   "execution_count": null,
   "metadata": {},
   "outputs": [],
   "source": []
  },
  {
   "cell_type": "markdown",
   "metadata": {},
   "source": [
    "### filter, map, reduce\n",
    "* lambda 가 유용하게 사용되는 3가지 대표적 함수\n",
    "* 함수형 프로그래밍의 기본 요소\n",
    "* filter : 각 원소를 주어진 수식에 따라 변형하여 새로운 리스트 반환\n",
    "    - filter(함수, 반복 가능한 데이터)\n",
    "* map : 각 원소를 주어진 수식에 따라 변형하여 새로운 리스트로 반환"
   ]
  },
  {
   "cell_type": "code",
   "execution_count": 12,
   "metadata": {},
   "outputs": [
    {
     "name": "stdout",
     "output_type": "stream",
     "text": [
      "[2, 6, 8]\n"
     ]
    }
   ],
   "source": [
    "# 리스트에서 짝수만 추출해서 새로운 리스트로 생성\n",
    "list1 = [1,2,3,6,8,9]\n",
    "\n",
    "# 리스트 컴프리헨션\n",
    "print([x for x in list1 if x % 2 == 0])"
   ]
  },
  {
   "cell_type": "code",
   "execution_count": 13,
   "metadata": {},
   "outputs": [
    {
     "data": {
      "text/plain": [
       "[2, 6, 8]"
      ]
     },
     "execution_count": 13,
     "metadata": {},
     "output_type": "execute_result"
    }
   ],
   "source": [
    "even_list = []\n",
    "\n",
    "for i in list1:\n",
    "    if i % 2 == 0:\n",
    "        even_list.append(i)\n",
    "\n",
    "even_list"
   ]
  },
  {
   "cell_type": "code",
   "execution_count": 14,
   "metadata": {},
   "outputs": [
    {
     "data": {
      "text/plain": [
       "[2, 6, 8]"
      ]
     },
     "execution_count": 14,
     "metadata": {},
     "output_type": "execute_result"
    }
   ],
   "source": [
    "even_list = []\n",
    "\n",
    "def even(arr):\n",
    "    for i in arr:\n",
    "        if i % 2 == 0:\n",
    "            even_list.append(i)\n",
    "\n",
    "even(list1)\n",
    "even_list"
   ]
  },
  {
   "cell_type": "code",
   "execution_count": 15,
   "metadata": {},
   "outputs": [
    {
     "data": {
      "text/plain": [
       "False"
      ]
     },
     "execution_count": 15,
     "metadata": {},
     "output_type": "execute_result"
    }
   ],
   "source": [
    "def even(n):\n",
    "    return n % 2 == 0\n",
    "\n",
    "even(3)"
   ]
  },
  {
   "cell_type": "code",
   "execution_count": 17,
   "metadata": {},
   "outputs": [
    {
     "name": "stdout",
     "output_type": "stream",
     "text": [
      "[2, 6, 8]\n"
     ]
    },
    {
     "data": {
      "text/plain": [
       "[2, 6, 8]"
      ]
     },
     "execution_count": 17,
     "metadata": {},
     "output_type": "execute_result"
    }
   ],
   "source": [
    "nums = [1,2,3,6,8,9]\n",
    "\n",
    "print(list(filter(even,nums)))\n",
    "\n",
    "list(filter(lambda n:n%2==0, nums))"
   ]
  },
  {
   "cell_type": "code",
   "execution_count": 18,
   "metadata": {},
   "outputs": [
    {
     "data": {
      "text/plain": [
       "[1, 4, 9, 36, 64, 100, 121, 144, 169, 196, 225]"
      ]
     },
     "execution_count": 18,
     "metadata": {},
     "output_type": "execute_result"
    }
   ],
   "source": [
    "def mul(x):\n",
    "    return x ** 2\n",
    "\n",
    "numbers = [1,2,3,6,8,10,11,12,13,14,15]\n",
    "list(map(mul,numbers))"
   ]
  },
  {
   "cell_type": "code",
   "execution_count": 19,
   "metadata": {},
   "outputs": [
    {
     "data": {
      "text/plain": [
       "[1, 4, 9, 36, 64, 100, 121, 144, 169, 196, 225]"
      ]
     },
     "execution_count": 19,
     "metadata": {},
     "output_type": "execute_result"
    }
   ],
   "source": [
    "list(map(lambda x:x**2,numbers))"
   ]
  },
  {
   "cell_type": "code",
   "execution_count": 20,
   "metadata": {},
   "outputs": [
    {
     "data": {
      "text/plain": [
       "[2, 4, 6, 8]"
      ]
     },
     "execution_count": 20,
     "metadata": {},
     "output_type": "execute_result"
    }
   ],
   "source": [
    "list2 = [1,2,3,4]\n",
    "\n",
    "#  [2,4,6,8] \n",
    "list(map(lambda x:x*2,list2))"
   ]
  },
  {
   "cell_type": "code",
   "execution_count": 24,
   "metadata": {},
   "outputs": [
    {
     "data": {
      "text/plain": [
       "[1, 2, 3, 4, 5, 6, 7, 8, 9, 10]"
      ]
     },
     "execution_count": 24,
     "metadata": {},
     "output_type": "execute_result"
    }
   ],
   "source": [
    "# nums = [1,2,3,4,5,6,7,8,9,10]\n",
    "nums = list(range(1,11))\n",
    "nums"
   ]
  },
  {
   "cell_type": "code",
   "execution_count": 25,
   "metadata": {},
   "outputs": [
    {
     "data": {
      "text/plain": [
       "[1, 2, '3', 4, 5, '6', 7, 8, '9', 10]"
      ]
     },
     "execution_count": 25,
     "metadata": {},
     "output_type": "execute_result"
    }
   ],
   "source": [
    "# 3의 배수만 문자열로 변경해서 새로운 리스트 생성\n",
    "# [1, 2, '3', 4, 5, '6', 7, 8, '9', 10]\n",
    "\n",
    "nums = list(range(1,11))\n",
    "list2 = []\n",
    "def str_check(arr):\n",
    "    for i in arr:\n",
    "        if i % 3 == 0:\n",
    "            list2.append(str(i))\n",
    "        else:\n",
    "            list2.append(i)\n",
    "\n",
    "str_check(nums)\n",
    "list2"
   ]
  },
  {
   "cell_type": "code",
   "execution_count": 27,
   "metadata": {},
   "outputs": [
    {
     "data": {
      "text/plain": [
       "[1, 2, '3', 4, 5, '6', 7, 8, '9', 10]"
      ]
     },
     "execution_count": 27,
     "metadata": {},
     "output_type": "execute_result"
    }
   ],
   "source": [
    "nums = list(range(1,11))\n",
    "list2 = []\n",
    "def str_check(i):    \n",
    "    if i % 3 == 0:\n",
    "        list2.append(str(i))\n",
    "    else:\n",
    "        list2.append(i)\n",
    "\n",
    "for i in nums:\n",
    "    str_check(i)\n",
    "\n",
    "list2"
   ]
  },
  {
   "cell_type": "code",
   "execution_count": 28,
   "metadata": {},
   "outputs": [
    {
     "data": {
      "text/plain": [
       "[1, 2, '3', 4, 5, '6', 7, 8, '9', 10]"
      ]
     },
     "execution_count": 28,
     "metadata": {},
     "output_type": "execute_result"
    }
   ],
   "source": [
    "# 참일때 실행 구문 if 조건 else 거짓일때 실행구문\n",
    "# str(i) if i % 3 == 0 else i\n",
    "\n",
    "list(map(lambda i:str(i) if i % 3 == 0 else i, nums))"
   ]
  },
  {
   "cell_type": "code",
   "execution_count": null,
   "metadata": {},
   "outputs": [],
   "source": []
  }
 ],
 "metadata": {
  "kernelspec": {
   "display_name": "venv",
   "language": "python",
   "name": "python3"
  },
  "language_info": {
   "codemirror_mode": {
    "name": "ipython",
    "version": 3
   },
   "file_extension": ".py",
   "mimetype": "text/x-python",
   "name": "python",
   "nbconvert_exporter": "python",
   "pygments_lexer": "ipython3",
   "version": "3.12.3"
  }
 },
 "nbformat": 4,
 "nbformat_minor": 2
}
