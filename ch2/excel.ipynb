{
 "cells": [
  {
   "cell_type": "code",
   "execution_count": 4,
   "metadata": {},
   "outputs": [],
   "source": [
    "from openpyxl import Workbook\n",
    "\n",
    "wb=Workbook() # 새워크북 객체 생성\n",
    "ws = wb.active # 현재 활성화된 엑셀 시트를 가져옴\n",
    "\n",
    "ws.title=\"시트1\" # 시트 이름 바꾸기\n",
    "wb.save(\"./resource.sample.xlsx\") # 새로운 엑셀 파일 생성\n",
    "wb.close() # 워크북 닫기 이렇게 닫아야 다음 작업이 가능하다"
   ]
  },
  {
   "cell_type": "code",
   "execution_count": 5,
   "metadata": {},
   "outputs": [],
   "source": [
    "# 시트 생성\n",
    "ws1=wb.create_sheet()\n",
    "ws1.title=\"시트2\"\n",
    "ws1.sheet_properties.tabColor=\"ff66ff\"\n",
    "\n",
    "wb.save(\"./resource/sample.xlsx\")"
   ]
  },
  {
   "cell_type": "code",
   "execution_count": 6,
   "metadata": {},
   "outputs": [],
   "source": [
    "ws1=wb.create_sheet(title=\"급여명세\",index=2) # index 시트 위치 지정 이렇게하면 급여명세라는 시트가 2번 인덱스 위치에 생성 된다\n",
    "\n",
    "# 시트 복사\n",
    "new_ws=wb[\"시트2\"] # 생성된 시트에 접근\n",
    "\n",
    "new_ws[\"A1\"]=\"Test\" # 카피된 시트의 A1 위치에  Test 라는 문자열을 삽입\n",
    "target=wb.copy_worksheet(new_ws)\n",
    "target.title=\"Copied Sheet\"\n",
    "\n",
    "wb.save(\"./resource/sample.xlsx\")"
   ]
  },
  {
   "cell_type": "code",
   "execution_count": 7,
   "metadata": {},
   "outputs": [
    {
     "data": {
      "text/plain": [
       "['시트1', '시트2', '급여명세', 'Copied Sheet']"
      ]
     },
     "execution_count": 7,
     "metadata": {},
     "output_type": "execute_result"
    }
   ],
   "source": [
    "# 생성된 모든 시트명 가져오기\n",
    "wb.sheetnames"
   ]
  },
  {
   "cell_type": "code",
   "execution_count": 13,
   "metadata": {},
   "outputs": [
    {
     "name": "stdout",
     "output_type": "stream",
     "text": [
      "<Cell '시트1'.A1>\n",
      "1\n",
      "1\n",
      "6\n",
      "테스트 10\n"
     ]
    }
   ],
   "source": [
    "ws1 = wb[\"시트1\"]\n",
    "\n",
    "# 셀에 데이터 입력\n",
    "\n",
    "ws1[\"A1\"]=1\n",
    "ws1[\"A2\"]=2\n",
    "ws1[\"A3\"]=3\n",
    "ws1[\"A4\"]=4\n",
    "\n",
    "\n",
    "ws1[\"B1\"]=5\n",
    "ws1[\"B2\"]=6\n",
    "ws1[\"B3\"]=7\n",
    "ws1[\"B4\"]=8\n",
    "\n",
    "\n",
    "print(ws1[\"A1\"]) # 이렇게만하면 셀 정보만 나온다\n",
    "\n",
    "print(ws1[\"A1\"].value) # 이렇게 해야 셀의 값이 나온다\n",
    "\n",
    "\n",
    "print(ws.cell(row=1,column=1).value) # 1 = A1 셀\n",
    "print(ws.cell(row=2,column=2).value) # 6 = B2 셀\n",
    "\n",
    "w = ws1.cell(row=1,column=3,value=\"테스트 10\") # 이러면 값도 집어 넣을 수 있다\n",
    "print(w.value)\n",
    "\n",
    "\n",
    "\n",
    "\n",
    "wb.save(\"./resource/sample.xlsx\")\n"
   ]
  },
  {
   "cell_type": "code",
   "execution_count": 18,
   "metadata": {},
   "outputs": [],
   "source": [
    " #  1 ~ 100 사이의 임의의 숫자를 채우기\n",
    "\n",
    "wb=Workbook() # 새워크북 객체 생성\n",
    "ws = wb.active # 현재 활성화된 엑셀 시트를 가져옴\n",
    "\n",
    "ws.title=\"시트1\" # 시트 이름 바꾸기\n",
    "\n",
    "from random import randint \n",
    "\n",
    "for x in range(1,11):\n",
    "    for y in range(1,11):\n",
    "        ws.cell(row=x, column=y,value=randint(1,100)) # randint(1,100) : 1 에서 100사이에 숫자 생성\n",
    "\n",
    "\n",
    "\n",
    "\n",
    "\n",
    "\n",
    "\n",
    "\n",
    "wb.save(\"./resource/sample2.xlsx\") # 새로운 엑셀 파일 생성\n",
    "wb.close() # 워크북 닫기 이렇게 닫아야 다음 작업이 가능하다"
   ]
  },
  {
   "cell_type": "code",
   "execution_count": 19,
   "metadata": {},
   "outputs": [
    {
     "name": "stdout",
     "output_type": "stream",
     "text": [
      "59 18 58 9 89 81 89 9 1 53 \n",
      "13 52 92 48 51 49 46 99 82 73 \n",
      "44 91 89 66 48 55 29 90 95 15 \n",
      "53 53 94 24 92 87 20 4 10 59 \n",
      "99 100 73 68 94 64 71 98 76 87 \n",
      "15 65 38 65 89 77 67 38 54 9 \n",
      "38 28 36 9 38 25 45 96 11 28 \n",
      "86 3 45 90 77 72 53 41 84 57 \n",
      "23 27 11 99 94 35 47 37 8 7 \n",
      "24 62 87 37 70 78 84 78 94 24 \n"
     ]
    }
   ],
   "source": [
    "from openpyxl import load_workbook # 엑셀파일을 읽어올떄 필요한 임포트 구문\n",
    "\n",
    "wb = load_workbook(\"./resource/sample2.xlsx\")\n",
    "\n",
    "# 워크 시트 가져오기\n",
    "ws = wb.active\n",
    "\n",
    "# 셀 내용 가져오기\n",
    "for x in range(1,ws.max_row+1): # \n",
    "    for y in range(1,ws.max_column+1):\n",
    "        print(ws.cell(row=x, column=y).value,end=\" \") # randint(1,100) : 1 에서 100사이에 숫자 생성\n",
    "    print()    \n",
    "\n"
   ]
  },
  {
   "cell_type": "code",
   "execution_count": 30,
   "metadata": {},
   "outputs": [
    {
     "name": "stdout",
     "output_type": "stream",
     "text": [
      "영어 23 29 41 88 14 54 13 27 45 92 \n",
      "수학 97 65 58 55 71 7 98 43 17 30 \n"
     ]
    }
   ],
   "source": [
    "from openpyxl import Workbook\n",
    "from random import randint\n",
    "\n",
    "wb=Workbook()\n",
    "ws=wb.active\n",
    "\n",
    "# 행 단위로 삽입 하는 경우에는  append 이다\n",
    "ws.append([\"번호\",\"영어\",\"수학\"])\n",
    "\n",
    "for i in range(1,11):\n",
    "    ws.append([i,randint(1,100),randint(1,100)])\n",
    "\n",
    "\n",
    "\n",
    "# # 컬럼가져오기\n",
    "#     col_B = ws[\"B\"]\n",
    "#     print(col_B)\n",
    "\n",
    "#     for cell in col_B:\n",
    "#         print(cell.value)\n",
    "\n",
    "cols = ws[\"B:C\"] # B에서 C 컬럼까지 가져오고 싶음 이렇게 하면 2차원이 되버린다\n",
    "\n",
    "for c in cols:\n",
    "    for cell in c:\n",
    "        print(cell.value,end=\" \")\n",
    "    print()       \n",
    "\n",
    "#   영어 26 89 21 12 23 80 57 20 66 45 \n",
    "# 수학 82 65 48 92 69 40 64 43 37 86  이렇게 출력문이 찍힌다\n",
    "\n",
    "\n",
    "\n",
    "        \n",
    "\n",
    "wb.save(\"./resource/range.xlsx\")\n",
    "\n"
   ]
  },
  {
   "cell_type": "code",
   "execution_count": 27,
   "metadata": {},
   "outputs": [
    {
     "name": "stdout",
     "output_type": "stream",
     "text": [
      "번호\n",
      "영어\n",
      "수학\n"
     ]
    }
   ],
   "source": [
    "# 행 단위로 가져오기\n",
    "\n",
    "row_title=ws[1]\n",
    "for cell in row_title:\n",
    "    print(cell.value)"
   ]
  },
  {
   "cell_type": "code",
   "execution_count": 28,
   "metadata": {},
   "outputs": [
    {
     "name": "stdout",
     "output_type": "stream",
     "text": [
      "1 26 82 \n",
      "2 89 65 \n",
      "3 21 48 \n",
      "4 12 92 \n",
      "5 23 69 \n"
     ]
    }
   ],
   "source": [
    "row_range = ws[2:ws.max_row] # ws.max_row 데이터가 있는 모든 행 끝까지\n",
    "for rows in row_range:\n",
    "    for cell in rows:\n",
    "        print(cell.value,end=\" \")\n",
    "    print()        "
   ]
  },
  {
   "cell_type": "code",
   "execution_count": 29,
   "metadata": {},
   "outputs": [
    {
     "name": "stdout",
     "output_type": "stream",
     "text": [
      "영어\n",
      "26\n",
      "89\n",
      "21\n",
      "12\n",
      "23\n",
      "80\n",
      "57\n",
      "20\n",
      "66\n",
      "45\n",
      "번호\n",
      "영어\n",
      "수학\n"
     ]
    }
   ],
   "source": [
    "for row in  tuple(ws.rows):\n",
    "    print(row[1].value)\n",
    "\n",
    "for col in tuple(ws.columns):\n",
    "    print(col[0].value)    \n"
   ]
  },
  {
   "cell_type": "code",
   "execution_count": 30,
   "metadata": {},
   "outputs": [
    {
     "name": "stdout",
     "output_type": "stream",
     "text": [
      "번호 영어 수학 \n",
      "1 26 82 \n",
      "2 89 65 \n",
      "3 21 48 \n",
      "4 12 92 \n",
      "5 23 69 \n",
      "6 80 40 \n",
      "7 57 64 \n",
      "8 20 43 \n",
      "9 66 37 \n",
      "10 45 86 \n"
     ]
    }
   ],
   "source": [
    "for row in ws.iter_rows():\n",
    "    for cell in row:\n",
    "        print(cell.value,end=\" \")\n",
    "    print()\n",
    "\n",
    "    # iter_rows() : 전체 를 전부 가져와 주는 함수들\n",
    "    # iter_rows() 함수에 max 와 min 으로 범위 제한 가능 \n",
    "    \n",
    "\n",
    "            \n"
   ]
  },
  {
   "cell_type": "code",
   "execution_count": 15,
   "metadata": {},
   "outputs": [
    {
     "name": "stdout",
     "output_type": "stream",
     "text": [
      "1 번 학생의 영어점수,26 수학점수 ,82\n",
      "2 번 학생의 영어점수,89 수학점수 ,65\n",
      "3 번 학생의 영어점수,21 수학점수 ,48\n",
      "4 번 학생의 영어점수,12 수학점수 ,92\n",
      "5 번 학생의 영어점수,23 수학점수 ,69\n",
      "6 번 학생의 영어점수,80 수학점수 ,40\n",
      "None 번 학생의 영어점수,None 수학점수 ,None\n",
      "7 번 학생의 영어점수,57 수학점수 ,64\n",
      "8 번 학생의 영어점수,20 수학점수 ,43\n",
      "9 번 학생의 영어점수,66 수학점수 ,37\n",
      "10 번 학생의 영어점수,45 수학점수 ,86\n",
      "2번 학생의 영어점수는89 입니다\n",
      "6번 학생의 영어점수는80 입니다\n"
     ]
    },
    {
     "ename": "TypeError",
     "evalue": "'>=' not supported between instances of 'NoneType' and 'int'",
     "output_type": "error",
     "traceback": [
      "\u001b[1;31m---------------------------------------------------------------------------\u001b[0m",
      "\u001b[1;31mTypeError\u001b[0m                                 Traceback (most recent call last)",
      "Cell \u001b[1;32mIn[15], line 19\u001b[0m\n\u001b[0;32m     16\u001b[0m \u001b[38;5;66;03m# 영어 점수가 70점 이상인 학생만 출력\u001b[39;00m\n\u001b[0;32m     18\u001b[0m \u001b[38;5;28;01mfor\u001b[39;00m row \u001b[38;5;129;01min\u001b[39;00m ws\u001b[38;5;241m.\u001b[39miter_rows(min_row\u001b[38;5;241m=\u001b[39m\u001b[38;5;241m2\u001b[39m):\n\u001b[1;32m---> 19\u001b[0m     \u001b[38;5;28;01mif\u001b[39;00m \u001b[43mrow\u001b[49m\u001b[43m[\u001b[49m\u001b[38;5;241;43m1\u001b[39;49m\u001b[43m]\u001b[49m\u001b[38;5;241;43m.\u001b[39;49m\u001b[43mvalue\u001b[49m\u001b[43m \u001b[49m\u001b[38;5;241;43m>\u001b[39;49m\u001b[38;5;241;43m=\u001b[39;49m\u001b[43m \u001b[49m\u001b[38;5;241;43m70\u001b[39;49m:\n\u001b[0;32m     20\u001b[0m         \u001b[38;5;28mprint\u001b[39m(\u001b[38;5;124mf\u001b[39m\u001b[38;5;124m\"\u001b[39m\u001b[38;5;132;01m{\u001b[39;00mrow[\u001b[38;5;241m0\u001b[39m]\u001b[38;5;241m.\u001b[39mvalue\u001b[38;5;132;01m}\u001b[39;00m\u001b[38;5;124m번 학생의 영어점수는\u001b[39m\u001b[38;5;132;01m{\u001b[39;00mrow[\u001b[38;5;241m1\u001b[39m]\u001b[38;5;241m.\u001b[39mvalue\u001b[38;5;132;01m}\u001b[39;00m\u001b[38;5;124m 입니다\u001b[39m\u001b[38;5;124m\"\u001b[39m)\n\u001b[0;32m     25\u001b[0m \u001b[38;5;66;03m# 영어 컬럼을  => 컴퓨터로 변경 하고싶음\u001b[39;00m\n",
      "\u001b[1;31mTypeError\u001b[0m: '>=' not supported between instances of 'NoneType' and 'int'"
     ]
    }
   ],
   "source": [
    "from openpyxl import load_workbook\n",
    "# 읽어올 엑셀 파일 지정\n",
    "wb=load_workbook(\"./resource/range.xlsx\")\n",
    "\n",
    "# 시트 가져오기\n",
    "ws=wb.active # 활성화된 시트가져오기\n",
    "\n",
    "# 반복문을 통해 row 조회 \n",
    "for row in ws.iter_rows(min_row=2): # 이렇게  iter_rows() 함수 기능중 min row 를 활용 한다\n",
    "    # print(row) 셀의 정보만 가져온다\n",
    "    print(f\"{row[0].value} 번 학생의 영어점수,{row[1].value} 수학점수 ,{row[2].value}\")  # 이렇게만하면 맨 위에 제목 행도 나오기에 값이 밀린다\n",
    "\n",
    "\n",
    "\n",
    "\n",
    "# 영어 점수가 70점 이상인 학생만 출력\n",
    "\n",
    "for row in ws.iter_rows(min_row=2):\n",
    "    if row[1].value >= 70:\n",
    "        print(f\"{row[0].value}번 학생의 영어점수는{row[1].value} 입니다\")\n",
    "\n",
    "\n",
    "\n",
    "\n",
    "# 영어 컬럼을  => 컴퓨터로 변경 하고싶음\n",
    "\n",
    "for row in ws.iter_rows(max_row=1):\n",
    "    for cell in row:\n",
    "        if cell.value ==\"영어\":\n",
    "            cell.value=\"컴퓨터\"\n",
    "\n",
    "\n",
    "wb.save(\"./resource/range.xlsx\")\n",
    "wb.close()\n",
    "\n",
    "\n",
    "    \n",
    "\n",
    "\n"
   ]
  },
  {
   "cell_type": "code",
   "execution_count": 18,
   "metadata": {},
   "outputs": [],
   "source": [
    "# 읽어올 엑셀 파일 지정\n",
    "wb=load_workbook(\"./resource/range.xlsx\")\n",
    "\n",
    "# 시트 가져오기\n",
    "ws=wb.active # 활성화된 시트가져오기\n",
    "\n",
    "# 행 삽입\n",
    "ws.insert_rows(8,5) # 8번 위치에서 5줄 삽입\n",
    "\n",
    "# 열 삽입\n",
    "ws.insert_cols(2,3) # 2번 컬럼 위치에 3줄 삽입\n",
    "wb.save(\"./resource/range.xlsx\")\n",
    "wb.close()"
   ]
  },
  {
   "cell_type": "code",
   "execution_count": 25,
   "metadata": {},
   "outputs": [],
   "source": [
    "# 읽어올 엑셀 파일 지정\n",
    "wb=load_workbook(\"./resource/range.xlsx\")\n",
    "\n",
    "# 시트 가져오기\n",
    "ws=wb.active # 활성화된 시트가져오기\n",
    "\n",
    "# 행 열 삭제\n",
    "\n",
    "for row in ws.iter_rows(min_row=2):\n",
    "    if \n",
    "# ws.delete_cols(2,3)\n",
    "\n",
    "wb.save(\"./resource/range.xlsx\")\n",
    "wb.close()"
   ]
  },
  {
   "cell_type": "code",
   "execution_count": 28,
   "metadata": {},
   "outputs": [],
   "source": [
    "# 셀 이동\n",
    "\n",
    "wb=load_workbook(\"./resource/range.xlsx\")\n",
    "\n",
    "# 시트 가져오기\n",
    "ws=wb.active # 활성화된 시트가져오기\n",
    "\n",
    "ws.move_range(\"B1:C11\",rows=0,cols=1)\n",
    "ws.cell(column=2, row=1).value = \"국어\"\n",
    "\n",
    "wb.save(\"./resource/range.xlsx\")\n",
    "\n"
   ]
  },
  {
   "cell_type": "code",
   "execution_count": 37,
   "metadata": {},
   "outputs": [],
   "source": [
    "# 차트 작성\n",
    "# 차트 그리기\n",
    "\n",
    "from openpyxl.chart import BarChart,Reference,LineChart\n",
    "\n",
    "wb.save(\"./resource/range.xlsx\")\n",
    "wb.close()\n",
    "\n",
    "# bar 차트 설정\n",
    "line_value = Reference(ws,min_row=1,max_row=11,min_col=2,max_col=3)\n",
    "# 차트 종류 설정\n",
    "line_chart=LineChart()\n",
    "# 차트 데이터 추가\n",
    "line_chart.add_data(line_value, titles_from_data=True)\n",
    "# 차트 상세 설정\n",
    "line_chart.title=\"성적표\"\n",
    "line_chart.style=20\n",
    "line_chart.y_axis.title=\"점수\" \n",
    "line_chart.x_axis.title=\"번호\" \n",
    "# 시트에 차트 추가\n",
    "ws.add_chart(line_chart,\"E1\") # E1 위치에 보여줘\n",
    "\n",
    "\n",
    "wb.save(\"./resource/range_chart.xlsx\")\n",
    "wb.close()\n"
   ]
  },
  {
   "cell_type": "code",
   "execution_count": 38,
   "metadata": {},
   "outputs": [],
   "source": [
    "# 함수\n",
    "\n",
    "from datetime import datetime\n",
    "\n",
    "wb=Workbook()\n",
    "ws=wb.active\n",
    "\n",
    "ws[\"A1\"] = datetime.today()\n",
    "ws[\"A2\"] = \"=sum(1,2,3)\"\n",
    "ws[\"A3\"] = \"=average(1,2,3)\"\n",
    "\n",
    "ws[\"A4\"] = 10\n",
    "ws[\"A5\"] = 20\n",
    "ws[\"A6\"] = 30\n",
    "ws[\"A6\"] = \"=sun(A4:A6)\"\n",
    "\n",
    "\n",
    "wb.save(\"./resource/formmula.xlsx\")\n",
    "\n"
   ]
  },
  {
   "cell_type": "code",
   "execution_count": 39,
   "metadata": {},
   "outputs": [],
   "source": [
    "# range.xlsx\n",
    "# 국여 영어 수학 평균 점수\n",
    "\n",
    "\n",
    "wb=load_workbook(\"./resource/range.xlsx\")\n",
    "ws=wb.active\n",
    "\n",
    "\n",
    "ws[\"B12\"]=\"=average(B2:B11)\"\n",
    "ws[\"C12\"]=\"=average(C2:C11)\"\n",
    "wb.save(\"./resource/range.xlsx\")\n",
    "\n",
    "\n",
    "\n",
    "\n"
   ]
  },
  {
   "cell_type": "code",
   "execution_count": 43,
   "metadata": {},
   "outputs": [
    {
     "name": "stdout",
     "output_type": "stream",
     "text": [
      "2024-05-21 11:34:11.849000\n",
      "6\n",
      "2\n",
      "10\n",
      "20\n",
      "#NAME?\n"
     ]
    }
   ],
   "source": [
    "# 수식이 들어간 셀 읽어오기\n",
    "\n",
    "wb=load_workbook(\"./resource/formmula.xlsx\",data_only=True)\n",
    "ws=wb.active\n",
    "\n",
    "# 셀 값 모두 가져오기\n",
    "\n",
    "for values in ws.values:\n",
    "    for cell in values:\n",
    "        print(cell)"
   ]
  },
  {
   "cell_type": "code",
   "execution_count": 44,
   "metadata": {},
   "outputs": [],
   "source": [
    "# 셀 병합\n",
    "\n",
    "wb=load_workbook(\"./resource/range.xlsx\")\n",
    "ws=wb.active\n",
    "\n",
    "\n",
    "ws.merge_cells(\"d1:e1\")\n",
    "ws[\"d1\"].value=\"merge\"\n",
    "\n",
    "wb.save(\"./resource/range.xlsx\")\n",
    "\n",
    "\n",
    "\n"
   ]
  },
  {
   "cell_type": "code",
   "execution_count": 46,
   "metadata": {},
   "outputs": [],
   "source": [
    "# 셀 병합 해제\n",
    "\n",
    "wb=load_workbook(\"./resource/range.xlsx\")\n",
    "ws=wb.active\n",
    "\n",
    "\n",
    "ws.unmerge_cells(\"d1:e1\")\n",
    "ws[\"d1\"].value=\"merge\"\n",
    "\n",
    "wb.save(\"./resource/range.xlsx\")"
   ]
  },
  {
   "cell_type": "code",
   "execution_count": 48,
   "metadata": {},
   "outputs": [],
   "source": [
    "#  이미지 삽입\n",
    "from openpyxl.drawing.image import Image # pillow pip 를 여기서 사용한다\n",
    "\n",
    "wb= Workbook()\n",
    "\n",
    "ws=wb.active\n",
    "\n",
    "# 이미지 객체 생성\n",
    "img = Image(\"./resource/다운로드.png\")\n",
    "\n",
    "# 시트에 이미지 추가\n",
    "ws.add_image(img,\"C3\")\n",
    "\n",
    "wb.save(\"./resource/image.xlsx\")"
   ]
  },
  {
   "cell_type": "markdown",
   "metadata": {},
   "source": [
    "- 성적 산출\n",
    "- 100점 만점을 기준으로 축석 : 10, 퀴즈 2:10, 중간고사:20, 기말고사:30, 프로젝트 :20\n",
    "- 학생들의 최종 성적을 검토하는 과정에서 퀴즈 2문제에 오류를 발견하여 모두 만점 처리를 하기로 함\n",
    "- [최종 성적]\n",
    "- 학번   출번  퀴즈1  퀴즈2  중간고사  기말고사  프로젝트\n",
    "\n",
    "- 1, 10, 8, 5, 14, 26, 12\n",
    "- 2, 12, 6, 7, 11, 24, 15\n",
    "- 3, 11, 7, 8, 13, 23, 14\n",
    "- 4, 13, 9, 4, 15, 25, 16\n",
    "- 5, 9, 10, 6, 12, 27, 13\n",
    "- 6, 14, 8, 7, 10, 28, 17\n",
    "- 7, 8, 7, 4, 13, 23, 11\n",
    "- 8, 10, 9, 5, 12, 25, 14\n",
    "- 9, 12, 6, 8, 11, 22, 15\n",
    "- 10, 11, 7, 7, 14, 26, 16\n",
    "\n",
    "\n",
    "- 1. 퀴즈2 점수를 10으로 수정\n",
    "- 2. G 열에 총점(sum 사용 ), 1열에 성적 정보 추가\n",
    "- 3. 성적정보 : 총점 90 이상 A, 80 이상 B 70 이상  C 나머지 D\n",
    "- 4. 출결이 5 미만인 경우 총점 상관 없이 F\n",
    "- 5. 파일명 : scores.xlsx"
   ]
  },
  {
   "cell_type": "code",
   "execution_count": 1,
   "metadata": {},
   "outputs": [
    {
     "ename": "NameError",
     "evalue": "name 'Workbook' is not defined",
     "output_type": "error",
     "traceback": [
      "\u001b[1;31m---------------------------------------------------------------------------\u001b[0m",
      "\u001b[1;31mNameError\u001b[0m                                 Traceback (most recent call last)",
      "Cell \u001b[1;32mIn[1], line 1\u001b[0m\n\u001b[1;32m----> 1\u001b[0m wb\u001b[38;5;241m=\u001b[39m \u001b[43mWorkbook\u001b[49m()\n\u001b[0;32m      2\u001b[0m ws \u001b[38;5;241m=\u001b[39m wb\u001b[38;5;241m.\u001b[39mactive \u001b[38;5;66;03m# 현재 활성화된 엑셀 시트를 가져옴\u001b[39;00m\n\u001b[0;32m      4\u001b[0m ws\u001b[38;5;241m.\u001b[39mtitle\u001b[38;5;241m=\u001b[39m\u001b[38;5;124m\"\u001b[39m\u001b[38;5;124m최종 성적\u001b[39m\u001b[38;5;124m\"\u001b[39m \u001b[38;5;66;03m# 시트 이름 바꾸기\u001b[39;00m\n",
      "\u001b[1;31mNameError\u001b[0m: name 'Workbook' is not defined"
     ]
    }
   ],
   "source": [
    "wb= Workbook()\n",
    "ws = wb.active # 현재 활성화된 엑셀 시트를 가져옴\n",
    "\n",
    "ws.title=\"최종 성적\" # 시트 이름 바꾸기\n",
    "\n",
    "# 행 단위로 삽입 하는 경우에는  append 이다\n",
    "ws.append([\"학번\",\"출석\",\"퀴즈1\",\"퀴즈2\",\"중간고사\",\"기말고사\",\"프로젝트\"])\n",
    "\n",
    "\n",
    "# 학생 점수 엑셀 저장\n",
    "\n",
    "\n",
    "\n",
    "score_list=[\n",
    " [1, 10, 8, 5, 14, 26, 12],\n",
    " [2, 12, 6, 7, 11, 24, 15],\n",
    " [3, 11, 7, 8, 13, 23, 14],\n",
    " [4, 13, 9, 4, 15, 25, 16],\n",
    " [5, 9, 10, 6, 12, 27, 13],\n",
    " [6, 14, 8, 7, 10, 28, 17],\n",
    " [7, 8, 7, 4, 13, 23, 11],\n",
    " [8, 10, 9, 5, 12, 25, 14],\n",
    " [9, 12, 6, 8, 11, 22, 15],\n",
    " [10, 11, 7, 7, 14, 26, 16],\n",
    "]\n",
    "\n",
    "\n",
    "for score in score_list:\n",
    "    ws.append(score)\n",
    "\n",
    "\n",
    "wb.save(\"./resource/scores.xlsx\")    \n",
    "\n",
    "\n",
    "\n"
   ]
  },
  {
   "cell_type": "code",
   "execution_count": 3,
   "metadata": {},
   "outputs": [],
   "source": [
    "from openpyxl import load_workbook\n",
    "\n",
    "# 엑셀 파일 불러오기\n",
    "wb = load_workbook(\"./resource/scores.xlsx\")\n",
    "ws = wb.active\n",
    "\n",
    "# 퀴즈 2 점수를 10으로 수정\n",
    "for idx, cell in enumerate(ws[\"D\"], start=0):\n",
    "    if idx == 0:\n",
    "        continue\n",
    "    cell.value = 10\n",
    "\n",
    "# H 열에 총점 (sum 사용), I 열에 성적 정보 추가\n",
    "ws[\"H1\"] = \"총점\"\n",
    "ws[\"I1\"] = \"성적\"\n",
    "\n",
    "for row in ws.iter_rows(min_row=2, max_col=7, values_only=False):\n",
    "    idx = row[0].row  # 행 번호\n",
    "    scores = [cell.value for cell in row[1:]]\n",
    "    \n",
    "    total = sum(scores) - scores[3] + 10  # 기존 퀴즈 2 점수 대신 10점 더하기\n",
    "    ws.cell(row=idx, column=8).value = total\n",
    "    \n",
    "    grade = None\n",
    "    if total >= 80:\n",
    "        grade = \"A\"\n",
    "    elif total >= 70:\n",
    "        grade = \"B\"\n",
    "    elif total >= 60:\n",
    "        grade = \"C\"\n",
    "    else:\n",
    "        grade = \"F\"\n",
    "    \n",
    "    if scores[0] < 5:  # 출석 점수가 5 미만인 경우\n",
    "        grade = \"F\"\n",
    "    \n",
    "    ws.cell(row=idx, column=9).value = grade\n",
    "\n",
    "# 엑셀 파일 저장\n",
    "wb.save(\"./resource/scores.xlsx\")\n"
   ]
  },
  {
   "cell_type": "code",
   "execution_count": 1,
   "metadata": {},
   "outputs": [],
   "source": [
    "# 총점 바차트 \n"
   ]
  },
  {
   "cell_type": "code",
   "execution_count": null,
   "metadata": {},
   "outputs": [],
   "source": []
  }
 ],
 "metadata": {
  "kernelspec": {
   "display_name": "Python 3",
   "language": "python",
   "name": "python3"
  },
  "language_info": {
   "codemirror_mode": {
    "name": "ipython",
    "version": 3
   },
   "file_extension": ".py",
   "mimetype": "text/x-python",
   "name": "python",
   "nbconvert_exporter": "python",
   "pygments_lexer": "ipython3",
   "version": "3.12.3"
  }
 },
 "nbformat": 4,
 "nbformat_minor": 2
}
