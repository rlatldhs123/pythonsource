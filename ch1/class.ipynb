{
 "cells": [
  {
   "cell_type": "code",
   "execution_count": 1,
   "metadata": {},
   "outputs": [
    {
     "name": "stdout",
     "output_type": "stream",
     "text": [
      "이름 : Kim1, 학번 : 1, 학년 : 1, 학생정보 : [{'gender': 'male'}, {'score1': 95}, {'score2': 85}]\n"
     ]
    }
   ],
   "source": [
    "# 3명의 학생 정보 입력한 후 출력\n",
    "# 변수, 리스트, 딕셔너리\n",
    "student_name1=\"Kim1\"\n",
    "student_number=1\n",
    "student_grade1=1\n",
    "student_detail=[\n",
    "    {\"gender\":\"male\"},\n",
    "    {\"score1\":95},\n",
    "    {\"score2\":85}\n",
    "]\n",
    "\n",
    "print(f\"이름 : {student_name1}, 학번 : {student_number}, 학년 : {student_grade1}, 학생정보 : {student_detail}\")\n",
    "\n"
   ]
  },
  {
   "cell_type": "code",
   "execution_count": 2,
   "metadata": {},
   "outputs": [],
   "source": [
    "# __ init__ : 자바에서 생성자 개념\n",
    "# __ str__ : 자바에서 toString 개념\n",
    "# self : 자바에서 this 개념 (꼭 필요함)\n",
    "\n",
    "class Student():\n",
    "    def __init__(self,name,number,grade,details) -> None:\n",
    "        self.name=name\n",
    "        self.number=number\n",
    "        self.grade=grade\n",
    "        self.details=details\n",
    "        \n",
    "\n",
    "    def __str__(self) -> str:\n",
    "        return \"{}\".format(self.name)\n",
    "        pass"
   ]
  },
  {
   "cell_type": "code",
   "execution_count": 7,
   "metadata": {},
   "outputs": [],
   "source": [
    "# 객체 생성\n",
    "student1= Student(name=\"Kim\",number=1,grade=1,details={\"gender\":\"mail\",\"score1\":96,\"score2\":98})\n",
    "student2= Student(\"park\",1,2,details={\"gender\":\"femail\",\"score1\":92,\"score2\":91})\n",
    "student3= Student(name=\"Kim\",number=1,grade=1,details={\"gender\":\"mail\",\"score1\":96,\"score2\":98})"
   ]
  },
  {
   "cell_type": "code",
   "execution_count": 9,
   "metadata": {},
   "outputs": [
    {
     "name": "stdout",
     "output_type": "stream",
     "text": [
      "{'name': 'Kim', 'number': 1, 'grade': 1, 'details': {'gender': 'mail', 'score1': 96, 'score2': 98}}\n",
      "{'name': 'park', 'number': 1, 'grade': 2, 'details': {'gender': 'femail', 'score1': 92, 'score2': 91}}\n",
      "{'name': 'Kim', 'number': 1, 'grade': 1, 'details': {'gender': 'mail', 'score1': 96, 'score2': 98}}\n"
     ]
    }
   ],
   "source": [
    "print(student1.__dict__)\n",
    "print(student2.__dict__)\n",
    "print(student3.__dict__)"
   ]
  },
  {
   "cell_type": "code",
   "execution_count": 10,
   "metadata": {},
   "outputs": [
    {
     "name": "stdout",
     "output_type": "stream",
     "text": [
      "Kim\n",
      "park\n",
      "Kim\n"
     ]
    }
   ],
   "source": [
    "print(student1)\n",
    "print(student2)\n",
    "print(student3)"
   ]
  },
  {
   "cell_type": "code",
   "execution_count": 11,
   "metadata": {},
   "outputs": [
    {
     "name": "stdout",
     "output_type": "stream",
     "text": [
      "메소드 실행\n"
     ]
    }
   ],
   "source": [
    "class UserInfo():\n",
    "    def user_info(self):\n",
    "        print(\"메소드 실행\")\n",
    "\n",
    "user1 = UserInfo()\n",
    "user1.user_info()\n"
   ]
  },
  {
   "cell_type": "code",
   "execution_count": 15,
   "metadata": {},
   "outputs": [
    {
     "name": "stdout",
     "output_type": "stream",
     "text": [
      "{'speed': 110, 'color': 'red'}\n",
      "{'speed': 30, 'color': 'blue'}\n",
      "{'speed': 50, 'color': 'white'}\n"
     ]
    }
   ],
   "source": [
    "class Car1():\n",
    "    color,speed=\"\",0\n",
    "    def up_speed(self,value):\n",
    "        self.speed +=value\n",
    "    def down_speed(self,value):\n",
    "        self.speed -=value\n",
    "\n",
    "\n",
    "car1=Car1()\n",
    "car1.speed = 100\n",
    "car1.color= \"red\"\n",
    "car1.up_speed(10)\n",
    "\n",
    "car2=Car1()\n",
    "car2.speed = 80\n",
    "car2.color= \"blue\"\n",
    "car2.down_speed(50)\n",
    "\n",
    "car3=Car1()\n",
    "car3.speed = 50\n",
    "car3.color= \"white\"\n",
    "\n",
    "print(car1.__dict__)\n",
    "print(car2.__dict__)\n",
    "print(car3.__dict__)"
   ]
  },
  {
   "cell_type": "code",
   "execution_count": 16,
   "metadata": {},
   "outputs": [],
   "source": [
    "class Car2():\n",
    "    color,speed=\"\",0\n",
    "    def __init__(self) -> None:\n",
    "        self.color=\"\"\n",
    "        self.speed=0\n",
    "        \n",
    "    def up_speed(self,value):\n",
    "        self.speed +=value\n",
    "\n",
    "    def down_speed(self,value):\n",
    "        self.speed -=value\n",
    "\n",
    "        "
   ]
  },
  {
   "cell_type": "code",
   "execution_count": 26,
   "metadata": {},
   "outputs": [],
   "source": [
    "class UserInfo2():\n",
    "\n",
    "    user_count =0\n",
    "\n",
    "    def __init__(self,name,age) -> None:\n",
    "        self.name =name\n",
    "        self.age =age\n",
    "        UserInfo2.user_count +=1\n",
    "\n",
    "    def user_info(self):\n",
    "        return f\"name : {self.name}, age : {self.age}\" \n",
    "\n",
    "    def function1():\n",
    "        print(\"functio1 called\")    \n",
    "        \n"
   ]
  },
  {
   "cell_type": "code",
   "execution_count": 20,
   "metadata": {},
   "outputs": [
    {
     "name": "stdout",
     "output_type": "stream",
     "text": [
      "name : 김철수, age : 30\n",
      "name : 김영희, age : 25\n"
     ]
    }
   ],
   "source": [
    "user1 = UserInfo2(\"김철수\",30)\n",
    "user2 = UserInfo2(\"김영희\",25)\n",
    "\n",
    "\n",
    "print(user1.user_info())\n",
    "print(user2.user_info())"
   ]
  },
  {
   "cell_type": "code",
   "execution_count": 21,
   "metadata": {},
   "outputs": [
    {
     "data": {
      "text/plain": [
       "4"
      ]
     },
     "execution_count": 21,
     "metadata": {},
     "output_type": "execute_result"
    }
   ],
   "source": [
    "# 클래스 변수\n",
    "\n",
    "\n",
    "UserInfo2.user_count"
   ]
  },
  {
   "cell_type": "code",
   "execution_count": 27,
   "metadata": {},
   "outputs": [
    {
     "name": "stdout",
     "output_type": "stream",
     "text": [
      "functio1 called\n"
     ]
    }
   ],
   "source": [
    "# user1.function1() : # self 없이 작성된 메소드는 클래스 메소드\n",
    "UserInfo2.function1()"
   ]
  },
  {
   "cell_type": "code",
   "execution_count": 31,
   "metadata": {},
   "outputs": [],
   "source": [
    "class UserInfo3():\n",
    "\n",
    "    user_count =0\n",
    "# email - None 을 넣어줘서 이메일이 들어오지 않을떄 뭘로할 것인디 디폴트값을 정해준다\n",
    "    def __init__(self,name,age,email=None) -> None:\n",
    "        self.name =name\n",
    "        self.age =age\n",
    "        self.email=email\n",
    " \n",
    "\n",
    "    def user_info(self):\n",
    "        return f\"name : {self.name}, age : {self.age}\" "
   ]
  },
  {
   "cell_type": "code",
   "execution_count": 35,
   "metadata": {},
   "outputs": [],
   "source": [
    "# email 필수가 아닐때 => 생성자 오버로딩 개념이 없음\n",
    "\n",
    "# 에러남 이메일 넣으라고 뭐라 함\n",
    "\n",
    "user1 = UserInfo3(name=\"홍길동\",age=30)\n",
    "user2 = UserInfo3(name=\"성춘향\",age=30,email=\"z1130ion@naver.com\")"
   ]
  },
  {
   "cell_type": "code",
   "execution_count": 36,
   "metadata": {},
   "outputs": [
    {
     "name": "stdout",
     "output_type": "stream",
     "text": [
      "name : 홍길동, age : 30\n",
      "name : 성춘향, age : 30\n"
     ]
    }
   ],
   "source": [
    "print(user1.user_info())\n",
    "print(user2.user_info())"
   ]
  },
  {
   "cell_type": "code",
   "execution_count": 37,
   "metadata": {},
   "outputs": [],
   "source": [
    "# __init__ : num1 , num2\n",
    "# add(),sub(),mul(), div()\n",
    "class FourCal():\n",
    "    def __init__(self,num1,num2) -> None:\n",
    "        self.num1=num1\n",
    "        self.num2=num2\n",
    "\n",
    "\n",
    "\n",
    "    def add(self):\n",
    "        return self.num1 + self.num2\n",
    "        \n",
    "    def sub(self):\n",
    "        return self.num1 - self.num2  \n",
    "      \n",
    "    def mul(self):\n",
    "        return self.num1 * self.num2  \n",
    "      \n",
    "    def div(self):\n",
    "        return self.num1 / self.num2    \n",
    "\n",
    "        \n",
    "    "
   ]
  },
  {
   "cell_type": "code",
   "execution_count": 39,
   "metadata": {},
   "outputs": [
    {
     "name": "stdout",
     "output_type": "stream",
     "text": [
      "10 + 5 = 15\n",
      "10 - 5 = 5\n",
      "10 * 5 = 50\n",
      "10 / 5 = 2.0\n"
     ]
    }
   ],
   "source": [
    "num1, num2 = 10,5\n",
    "four1 = FourCal(num1,num2)\n",
    "print(f\"{num1} + {num2} = {four1.add()}\")\n",
    "print(f\"{num1} - {num2} = {four1.sub()}\")\n",
    "print(f\"{num1} * {num2} = {four1.mul()}\")\n",
    "print(f\"{num1} / {num2} = {four1.div()}\")"
   ]
  },
  {
   "cell_type": "code",
   "execution_count": 40,
   "metadata": {},
   "outputs": [],
   "source": [
    " # 상속\n",
    "\n",
    "class Parent:\n",
    "    def __init__(self) -> None:\n",
    "        self.value = \"테스트\"\n",
    "        print(\"Parent 생성자 호출\")\n",
    "        \n",
    "        \n",
    "        \n",
    "    def test(self):\n",
    "        print(\"Parent test 메소드 호출\")   \n",
    "\n",
    "\n",
    "class child(Parent):\n",
    "    def __init__(self) -> None:\n",
    "        super().__init__()\n",
    "        print(\"Child 생성자 호출\")         "
   ]
  },
  {
   "cell_type": "code",
   "execution_count": 41,
   "metadata": {},
   "outputs": [
    {
     "name": "stdout",
     "output_type": "stream",
     "text": [
      "Parent 생성자 호출\n",
      "Child 생성자 호출\n",
      "테스트\n",
      "Parent test 메소드 호출\n"
     ]
    }
   ],
   "source": [
    "child=child()\n",
    "print(child.value)\n",
    "child.test()"
   ]
  },
  {
   "cell_type": "code",
   "execution_count": 42,
   "metadata": {},
   "outputs": [],
   "source": [
    "# 오버라이딩\n",
    "\n",
    "class Parent:\n",
    "    def function1(self):\n",
    "        print(\"Parent function1()\")\n",
    "\n",
    "    def function2(self):\n",
    "        print(\"Parent function2()\")    \n",
    "\n",
    "        \n",
    "\n",
    "\n",
    "\n",
    "class child(Parent):\n",
    "    def function1(self):\n",
    "        print(\"Child function1()\")\n",
    "\n",
    "    def function3(self):\n",
    "        print(\"Child function3()\")   \n"
   ]
  },
  {
   "cell_type": "code",
   "execution_count": 43,
   "metadata": {},
   "outputs": [
    {
     "name": "stdout",
     "output_type": "stream",
     "text": [
      "Parent function1()\n",
      "Child function1()\n",
      "Parent function2()\n",
      "Child function3()\n"
     ]
    }
   ],
   "source": [
    "parent, child = Parent(), child()\n",
    "\n",
    "parent.function1()\n",
    "child.function1()\n",
    "child.function2()\n",
    "child.function3()"
   ]
  },
  {
   "cell_type": "code",
   "execution_count": 49,
   "metadata": {},
   "outputs": [
    {
     "name": "stdout",
     "output_type": "stream",
     "text": [
      "__radius 10\n",
      "원둘레 62.83185307179586\n",
      "원 면적 314.1592653589793\n"
     ]
    }
   ],
   "source": [
    "import math\n",
    "\n",
    "class Circle():\n",
    "    def __init__(self,radius) -> None:\n",
    "        self.__radius = radius\n",
    "\n",
    "    def get_circumereence(self):\n",
    "        return 2 * math.pi * self.__radius\n",
    "\n",
    "    def get_circle_area(self):\n",
    "        return math.pi * (self.__radius **2)\n",
    "    \n",
    "    def get_radius(self):\n",
    "        return self.__radius\n",
    "    \n",
    "    def set_radius(self,radius):\n",
    "        self.__radius=radius\n",
    "\n",
    "circle = Circle(10)\n",
    "print(\"__radius\",circle.get_radius())    # __radius __ 는 자바의 private 갠ㅁ\n",
    "print(\"원둘레\",circle.get_circumereence())    \n",
    "print(\"원 면적\",circle.get_circle_area())    \n"
   ]
  },
  {
   "cell_type": "code",
   "execution_count": null,
   "metadata": {},
   "outputs": [],
   "source": []
  }
 ],
 "metadata": {
  "kernelspec": {
   "display_name": "Python 3",
   "language": "python",
   "name": "python3"
  },
  "language_info": {
   "codemirror_mode": {
    "name": "ipython",
    "version": 3
   },
   "file_extension": ".py",
   "mimetype": "text/x-python",
   "name": "python",
   "nbconvert_exporter": "python",
   "pygments_lexer": "ipython3",
   "version": "3.12.3"
  }
 },
 "nbformat": 4,
 "nbformat_minor": 2
}
